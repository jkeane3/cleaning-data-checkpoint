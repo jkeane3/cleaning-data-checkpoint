{
 "cells": [
  {
   "cell_type": "markdown",
   "metadata": {
    "azdata_cell_guid": "26037d32-2047-4157-81ef-595916bd66a0"
   },
   "source": [
    "# Checkpoint Three: Cleaning Data\n",
    "\n",
    "Now you are ready to clean your data. Before starting coding, provide the link to your dataset below.\n",
    "\n",
    "My dataset: https://chronicdata.cdc.gov/500-Cities-Places/PLACES-County-Data-GIS-Friendly-Format-2021-releas/i46a-9kgh\n",
    "\n",
    "Import the necessary libraries and create your dataframe(s)."
   ]
  },
  {
   "cell_type": "code",
   "execution_count": 10,
   "metadata": {
    "azdata_cell_guid": "e8adef8e-d0f2-4640-a179-5997f11e82ca"
   },
   "outputs": [],
   "source": [
    "# Import appropriate libraries\n",
    "import pandas as pd\n",
    "import numpy as np\n",
    "import seaborn as sns\n",
    "import matplotlib.pyplot as plt\n",
    "from matplotlib import style\n",
    "from scipy import stats\n",
    "\n",
    "# Create dataframe\n",
    "df = pd.read_csv('../PLACES_County_Data_2021.csv')"
   ]
  },
  {
   "cell_type": "markdown",
   "metadata": {
    "azdata_cell_guid": "e172475a-c4ee-414a-8367-9965355dbba6"
   },
   "source": [
    "## Missing Data\n",
    "\n",
    "Test your dataset for missing data and handle it as needed. Make notes in the form of code comments as to your thought process."
   ]
  },
  {
   "cell_type": "code",
   "execution_count": 2,
   "metadata": {
    "azdata_cell_guid": "e1dc66ef-e471-4c27-92e7-ee878c106eba"
   },
   "outputs": [
    {
     "name": "stdout",
     "output_type": "stream",
     "text": [
      "StateAbbr - 0%\n",
      "StateDesc - 0%\n",
      "CountyName - 0%\n",
      "CountyFIPS - 0%\n",
      "TotalPopulation - 0%\n",
      "ACCESS2_CrudePrev - 1%\n",
      "ACCESS2_Crude95CI - 1%\n",
      "ACCESS2_AdjPrev - 1%\n",
      "ACCESS2_Adj95CI - 1%\n",
      "ARTHRITIS_CrudePrev - 1%\n",
      "ARTHRITIS_Crude95CI - 1%\n",
      "ARTHRITIS_AdjPrev - 1%\n",
      "ARTHRITIS_Adj95CI - 1%\n",
      "BINGE_CrudePrev - 1%\n",
      "BINGE_Crude95CI - 1%\n",
      "BINGE_AdjPrev - 1%\n",
      "BINGE_Adj95CI - 1%\n",
      "BPHIGH_CrudePrev - 1%\n",
      "BPHIGH_Crude95CI - 1%\n",
      "BPHIGH_AdjPrev - 1%\n",
      "BPHIGH_Adj95CI - 1%\n",
      "BPMED_CrudePrev - 1%\n",
      "BPMED_Crude95CI - 1%\n",
      "BPMED_AdjPrev - 1%\n",
      "BPMED_Adj95CI - 1%\n",
      "CANCER_CrudePrev - 1%\n",
      "CANCER_Crude95CI - 1%\n",
      "CANCER_AdjPrev - 1%\n",
      "CANCER_Adj95CI - 1%\n",
      "CASTHMA_CrudePrev - 1%\n",
      "CASTHMA_Crude95CI - 1%\n",
      "CASTHMA_AdjPrev - 1%\n",
      "CASTHMA_Adj95CI - 1%\n",
      "CERVICAL_CrudePrev - 0%\n",
      "CERVICAL_Crude95CI - 0%\n",
      "CERVICAL_AdjPrev - 0%\n",
      "CERVICAL_Adj95CI - 0%\n",
      "CHD_CrudePrev - 1%\n",
      "CHD_Crude95CI - 1%\n",
      "CHD_AdjPrev - 1%\n",
      "CHD_Adj95CI - 1%\n",
      "CHECKUP_CrudePrev - 1%\n",
      "CHECKUP_Crude95CI - 1%\n",
      "CHECKUP_AdjPrev - 1%\n",
      "CHECKUP_Adj95CI - 1%\n",
      "CHOLSCREEN_CrudePrev - 1%\n",
      "CHOLSCREEN_Crude95CI - 1%\n",
      "CHOLSCREEN_AdjPrev - 1%\n",
      "CHOLSCREEN_Adj95CI - 1%\n",
      "COLON_SCREEN_CrudePrev - 0%\n",
      "COLON_SCREEN_Crude95CI - 0%\n",
      "COLON_SCREEN_AdjPrev - 0%\n",
      "COLON_SCREEN_Adj95CI - 0%\n",
      "COPD_CrudePrev - 1%\n",
      "COPD_Crude95CI - 1%\n",
      "COPD_AdjPrev - 1%\n",
      "COPD_Adj95CI - 1%\n",
      "COREM_CrudePrev - 0%\n",
      "COREM_Crude95CI - 0%\n",
      "COREM_AdjPrev - 0%\n",
      "COREM_Adj95CI - 0%\n",
      "COREW_CrudePrev - 0%\n",
      "COREW_Crude95CI - 0%\n",
      "COREW_AdjPrev - 0%\n",
      "COREW_Adj95CI - 0%\n",
      "CSMOKING_CrudePrev - 1%\n",
      "CSMOKING_Crude95CI - 1%\n",
      "CSMOKING_AdjPrev - 1%\n",
      "CSMOKING_Adj95CI - 1%\n",
      "DENTAL_CrudePrev - 0%\n",
      "DENTAL_Crude95CI - 0%\n",
      "DENTAL_AdjPrev - 0%\n",
      "DENTAL_Adj95CI - 0%\n",
      "DEPRESSION_CrudePrev - 1%\n",
      "DEPRESSION_Crude95CI - 1%\n",
      "DEPRESSION_AdjPrev - 1%\n",
      "DEPRESSION_Adj95CI - 1%\n",
      "DIABETES_CrudePrev - 1%\n",
      "DIABETES_Crude95CI - 1%\n",
      "DIABETES_AdjPrev - 1%\n",
      "DIABETES_Adj95CI - 1%\n",
      "GHLTH_CrudePrev - 1%\n",
      "GHLTH_Crude95CI - 1%\n",
      "GHLTH_AdjPrev - 1%\n",
      "GHLTH_Adj95CI - 1%\n",
      "HIGHCHOL_CrudePrev - 1%\n",
      "HIGHCHOL_Crude95CI - 1%\n",
      "HIGHCHOL_AdjPrev - 1%\n",
      "HIGHCHOL_Adj95CI - 1%\n",
      "KIDNEY_CrudePrev - 1%\n",
      "KIDNEY_Crude95CI - 1%\n",
      "KIDNEY_AdjPrev - 1%\n",
      "KIDNEY_Adj95CI - 1%\n",
      "LPA_CrudePrev - 1%\n",
      "LPA_Crude95CI - 1%\n",
      "LPA_AdjPrev - 1%\n",
      "LPA_Adj95CI - 1%\n",
      "MAMMOUSE_CrudePrev - 0%\n",
      "MAMMOUSE_Crude95CI - 0%\n",
      "MAMMOUSE_AdjPrev - 0%\n",
      "MAMMOUSE_Adj95CI - 0%\n",
      "MHLTH_CrudePrev - 1%\n",
      "MHLTH_Crude95CI - 1%\n",
      "MHLTH_AdjPrev - 1%\n",
      "MHLTH_Adj95CI - 1%\n",
      "OBESITY_CrudePrev - 1%\n",
      "OBESITY_Crude95CI - 1%\n",
      "OBESITY_AdjPrev - 1%\n",
      "OBESITY_Adj95CI - 1%\n",
      "PHLTH_CrudePrev - 1%\n",
      "PHLTH_Crude95CI - 1%\n",
      "PHLTH_AdjPrev - 1%\n",
      "PHLTH_Adj95CI - 1%\n",
      "SLEEP_CrudePrev - 0%\n",
      "SLEEP_Crude95CI - 0%\n",
      "SLEEP_AdjPrev - 0%\n",
      "SLEEP_Adj95CI - 0%\n",
      "STROKE_CrudePrev - 1%\n",
      "STROKE_Crude95CI - 1%\n",
      "STROKE_AdjPrev - 1%\n",
      "STROKE_Adj95CI - 1%\n",
      "TEETHLOST_CrudePrev - 0%\n",
      "TEETHLOST_Crude95CI - 0%\n",
      "TEETHLOST_AdjPrev - 0%\n",
      "TEETHLOST_Adj95CI - 0%\n",
      "Geolocation - 0%\n"
     ]
    }
   ],
   "source": [
    "# Get the percentage of missing values for each column\n",
    "# Most columns have 0% missing and some have 1% missing which is still very low\n",
    "# I don't see the need to do anything about the missing values with such a small percentage missing.\n",
    "for col in df.columns:\n",
    "    pct_missing = np.mean(df[col].isnull())\n",
    "    print('{} - {}%'.format(col, round(pct_missing*100)))"
   ]
  },
  {
   "cell_type": "code",
   "execution_count": 46,
   "metadata": {},
   "outputs": [
    {
     "name": "stdout",
     "output_type": "stream",
     "text": [
      "     StateAbbr   StateDesc  CountyName  CountyFIPS  TotalPopulation  \\\n",
      "199         NJ  New Jersey       Union       34039           556341   \n",
      "205         NJ  New Jersey  Cumberland       34011           149527   \n",
      "221         NJ  New Jersey       Ocean       34029           607186   \n",
      "224         NJ  New Jersey       Essex       34013           798975   \n",
      "322         NJ  New Jersey      Hudson       34017           672391   \n",
      "327         NJ  New Jersey     Passaic       34031           501826   \n",
      "402         NJ  New Jersey      Sussex       34037           140488   \n",
      "553         NJ  New Jersey    Cape May       34009            92039   \n",
      "815         NJ  New Jersey   Hunterdon       34019           124371   \n",
      "1008        NJ  New Jersey      Morris       34027           491845   \n",
      "1091        NJ  New Jersey      Warren       34041           105267   \n",
      "1227        NJ  New Jersey    Somerset       34035           328934   \n",
      "1267        NJ  New Jersey  Burlington       34005           445349   \n",
      "1573        NJ  New Jersey      Mercer       34021           367430   \n",
      "1644        NJ  New Jersey    Monmouth       34025           618795   \n",
      "2025        NJ  New Jersey      Bergen       34003           932202   \n",
      "2276        NJ  New Jersey       Salem       34033            62385   \n",
      "2307        NJ  New Jersey   Middlesex       34023           825062   \n",
      "2528        NJ  New Jersey  Gloucester       34015           291636   \n",
      "2688        NJ  New Jersey      Camden       34007           506471   \n",
      "2768        NJ  New Jersey    Atlantic       34001           263670   \n",
      "\n",
      "      ACCESS2_CrudePrev ACCESS2_Crude95CI  ACCESS2_AdjPrev ACCESS2_Adj95CI  \\\n",
      "199                 NaN               NaN              NaN             NaN   \n",
      "205                 NaN               NaN              NaN             NaN   \n",
      "221                 NaN               NaN              NaN             NaN   \n",
      "224                 NaN               NaN              NaN             NaN   \n",
      "322                 NaN               NaN              NaN             NaN   \n",
      "327                 NaN               NaN              NaN             NaN   \n",
      "402                 NaN               NaN              NaN             NaN   \n",
      "553                 NaN               NaN              NaN             NaN   \n",
      "815                 NaN               NaN              NaN             NaN   \n",
      "1008                NaN               NaN              NaN             NaN   \n",
      "1091                NaN               NaN              NaN             NaN   \n",
      "1227                NaN               NaN              NaN             NaN   \n",
      "1267                NaN               NaN              NaN             NaN   \n",
      "1573                NaN               NaN              NaN             NaN   \n",
      "1644                NaN               NaN              NaN             NaN   \n",
      "2025                NaN               NaN              NaN             NaN   \n",
      "2276                NaN               NaN              NaN             NaN   \n",
      "2307                NaN               NaN              NaN             NaN   \n",
      "2528                NaN               NaN              NaN             NaN   \n",
      "2688                NaN               NaN              NaN             NaN   \n",
      "2768                NaN               NaN              NaN             NaN   \n",
      "\n",
      "      ARTHRITIS_CrudePrev  ... SLEEP_Adj95CI  STROKE_CrudePrev  \\\n",
      "199                   NaN  ...  (38.1, 40.4)               NaN   \n",
      "205                   NaN  ...  (41.5, 43.6)               NaN   \n",
      "221                   NaN  ...  (36.3, 39.8)               NaN   \n",
      "224                   NaN  ...  (40.0, 42.5)               NaN   \n",
      "322                   NaN  ...  (36.6, 39.0)               NaN   \n",
      "327                   NaN  ...  (36.3, 38.6)               NaN   \n",
      "402                   NaN  ...  (34.2, 37.6)               NaN   \n",
      "553                   NaN  ...  (36.8, 40.2)               NaN   \n",
      "815                   NaN  ...  (32.6, 36.0)               NaN   \n",
      "1008                  NaN  ...  (33.3, 36.4)               NaN   \n",
      "1091                  NaN  ...  (36.5, 39.8)               NaN   \n",
      "1227                  NaN  ...  (34.9, 37.6)               NaN   \n",
      "1267                  NaN  ...  (35.8, 38.7)               NaN   \n",
      "1573                  NaN  ...  (37.7, 40.1)               NaN   \n",
      "1644                  NaN  ...  (35.6, 38.9)               NaN   \n",
      "2025                  NaN  ...  (34.3, 36.9)               NaN   \n",
      "2276                  NaN  ...  (37.1, 39.9)               NaN   \n",
      "2307                  NaN  ...  (35.8, 38.2)               NaN   \n",
      "2528                  NaN  ...  (36.9, 40.3)               NaN   \n",
      "2688                  NaN  ...  (40.2, 42.9)               NaN   \n",
      "2768                  NaN  ...  (39.4, 41.8)               NaN   \n",
      "\n",
      "     STROKE_Crude95CI  STROKE_AdjPrev STROKE_Adj95CI  TEETHLOST_CrudePrev  \\\n",
      "199               NaN             NaN            NaN                 12.5   \n",
      "205               NaN             NaN            NaN                 19.0   \n",
      "221               NaN             NaN            NaN                 12.3   \n",
      "224               NaN             NaN            NaN                 14.5   \n",
      "322               NaN             NaN            NaN                 12.0   \n",
      "327               NaN             NaN            NaN                 14.6   \n",
      "402               NaN             NaN            NaN                  9.6   \n",
      "553               NaN             NaN            NaN                 12.3   \n",
      "815               NaN             NaN            NaN                  8.0   \n",
      "1008              NaN             NaN            NaN                  7.9   \n",
      "1091              NaN             NaN            NaN                 11.4   \n",
      "1227              NaN             NaN            NaN                  7.6   \n",
      "1267              NaN             NaN            NaN                 10.5   \n",
      "1573              NaN             NaN            NaN                 11.4   \n",
      "1644              NaN             NaN            NaN                  9.3   \n",
      "2025              NaN             NaN            NaN                  8.9   \n",
      "2276              NaN             NaN            NaN                 15.5   \n",
      "2307              NaN             NaN            NaN                  9.9   \n",
      "2528              NaN             NaN            NaN                 11.3   \n",
      "2688              NaN             NaN            NaN                 12.9   \n",
      "2768              NaN             NaN            NaN                 14.3   \n",
      "\n",
      "     TEETHLOST_Crude95CI  TEETHLOST_AdjPrev TEETHLOST_Adj95CI  \\\n",
      "199         ( 8.6, 16.8)               12.7      ( 8.8, 17.0)   \n",
      "205         (14.5, 24.5)               19.3      (14.8, 25.0)   \n",
      "221         ( 7.8, 17.9)               12.3      ( 7.8, 17.9)   \n",
      "224         (10.5, 19.4)               14.7      (10.6, 19.6)   \n",
      "322         ( 8.4, 15.6)               12.2      ( 8.5, 15.9)   \n",
      "327         (10.4, 19.2)               14.9      (10.7, 19.7)   \n",
      "402         ( 5.5, 14.1)               10.0      ( 5.8, 14.6)   \n",
      "553         ( 7.5, 18.1)               12.5      ( 7.6, 18.4)   \n",
      "815         ( 4.5, 12.7)                8.2      ( 4.6, 13.1)   \n",
      "1008        ( 4.4, 12.4)                7.9      ( 4.5, 12.6)   \n",
      "1091        ( 6.8, 16.8)               11.5      ( 6.9, 17.0)   \n",
      "1227        ( 4.6, 11.6)                7.7      ( 4.7, 11.8)   \n",
      "1267        ( 6.7, 14.8)               10.6      ( 6.8, 15.0)   \n",
      "1573        ( 7.5, 16.3)               11.6      ( 7.7, 16.4)   \n",
      "1644        ( 5.6, 13.8)                9.5      ( 5.7, 14.1)   \n",
      "2025        ( 5.5, 13.2)                8.9      ( 5.5, 13.3)   \n",
      "2276        (10.8, 21.0)               15.7      (11.1, 21.4)   \n",
      "2307        ( 6.6, 14.4)               10.1      ( 6.6, 14.8)   \n",
      "2528        ( 7.2, 16.4)               11.6      ( 7.2, 16.8)   \n",
      "2688        ( 8.8, 17.6)               13.1      ( 8.8, 17.8)   \n",
      "2768        (10.0, 19.4)               14.5      (10.2, 19.6)   \n",
      "\n",
      "                           Geolocation  \n",
      "199   POINT (-74.30884526 40.66048019)  \n",
      "205     POINT (-75.1106521 39.3728675)  \n",
      "221   POINT (-74.28165167 39.88496877)  \n",
      "224   POINT (-74.24637091 40.78717274)  \n",
      "322   POINT (-74.07784695 40.73801571)  \n",
      "327   POINT (-74.30057394 41.03372756)  \n",
      "402   POINT (-74.69015804 41.13929435)  \n",
      "553    POINT (-74.8005329 39.14868278)  \n",
      "815   POINT (-74.91229129 40.56708207)  \n",
      "1008   POINT (-74.54469574 40.8617735)  \n",
      "1091   POINT (-74.9967165 40.85716301)  \n",
      "1227  POINT (-74.61618309 40.56359097)  \n",
      "1267  POINT (-74.66841123 39.87804413)  \n",
      "1573  POINT (-74.70122076 40.28412458)  \n",
      "1644  POINT (-74.22084607 40.26023236)  \n",
      "2025  POINT (-74.07454643 40.96006576)  \n",
      "2276  POINT (-75.34885125 39.58713198)  \n",
      "2307  POINT (-74.41024587 40.44054112)  \n",
      "2528  POINT (-75.14178042 39.71695865)  \n",
      "2688  POINT (-74.96060055 39.80388852)  \n",
      "2768  POINT (-74.65988355 39.47768287)  \n",
      "\n",
      "[21 rows x 126 columns]\n"
     ]
    }
   ],
   "source": [
    "# null_columns = df.columns[df.isnull().any()]\n",
    "# Select all rows with NaN under an entire dataframe\n",
    "# Counties in New Jersey have missing values for some columns\n",
    "# Some of these are taken from the BRFSS, which varies by state. New Jersey may have excluded some questions.\n",
    "# These counties still have values for some columns, so they should not be dropped.\n",
    "print(df[df.isnull().any(axis=1)])"
   ]
  },
  {
   "cell_type": "markdown",
   "metadata": {
    "azdata_cell_guid": "1233f543-e9a0-4f78-96f5-d7536554102e"
   },
   "source": [
    "## Irregular Data\n",
    "\n",
    "Detect outliers in your dataset and handle them as needed. Use code comments to make notes about your thought process."
   ]
  },
  {
   "cell_type": "code",
   "execution_count": 12,
   "metadata": {},
   "outputs": [
    {
     "name": "stdout",
     "output_type": "stream",
     "text": [
      "['CountyFIPS' 'TotalPopulation' 'ACCESS2_CrudePrev' 'ACCESS2_AdjPrev'\n",
      " 'ARTHRITIS_CrudePrev' 'ARTHRITIS_AdjPrev' 'BINGE_CrudePrev'\n",
      " 'BINGE_AdjPrev' 'BPHIGH_CrudePrev' 'BPHIGH_AdjPrev' 'BPMED_CrudePrev'\n",
      " 'BPMED_AdjPrev' 'CANCER_CrudePrev' 'CANCER_AdjPrev' 'CASTHMA_CrudePrev'\n",
      " 'CASTHMA_AdjPrev' 'CERVICAL_CrudePrev' 'CERVICAL_AdjPrev' 'CHD_CrudePrev'\n",
      " 'CHD_AdjPrev' 'CHECKUP_CrudePrev' 'CHECKUP_AdjPrev'\n",
      " 'CHOLSCREEN_CrudePrev' 'CHOLSCREEN_AdjPrev' 'COLON_SCREEN_CrudePrev'\n",
      " 'COLON_SCREEN_AdjPrev' 'COPD_CrudePrev' 'COPD_AdjPrev' 'COREM_CrudePrev'\n",
      " 'COREM_AdjPrev' 'COREW_CrudePrev' 'COREW_AdjPrev' 'CSMOKING_CrudePrev'\n",
      " 'CSMOKING_AdjPrev' 'DENTAL_CrudePrev' 'DENTAL_AdjPrev'\n",
      " 'DEPRESSION_CrudePrev' 'DEPRESSION_AdjPrev' 'DIABETES_CrudePrev'\n",
      " 'DIABETES_AdjPrev' 'GHLTH_CrudePrev' 'GHLTH_AdjPrev' 'HIGHCHOL_CrudePrev'\n",
      " 'HIGHCHOL_AdjPrev' 'KIDNEY_CrudePrev' 'KIDNEY_AdjPrev' 'LPA_CrudePrev'\n",
      " 'LPA_AdjPrev' 'MAMMOUSE_CrudePrev' 'MAMMOUSE_AdjPrev' 'MHLTH_CrudePrev'\n",
      " 'MHLTH_AdjPrev' 'OBESITY_CrudePrev' 'OBESITY_AdjPrev' 'PHLTH_CrudePrev'\n",
      " 'PHLTH_AdjPrev' 'SLEEP_CrudePrev' 'SLEEP_AdjPrev' 'STROKE_CrudePrev'\n",
      " 'STROKE_AdjPrev' 'TEETHLOST_CrudePrev' 'TEETHLOST_AdjPrev']\n"
     ]
    }
   ],
   "source": [
    "# select numeric columns\n",
    "df_numeric = df.select_dtypes(include=[np.number])\n",
    "numeric_cols = df_numeric.columns.values\n",
    "print(numeric_cols)"
   ]
  },
  {
   "cell_type": "code",
   "execution_count": 47,
   "metadata": {
    "azdata_cell_guid": "efed50ae-16f0-471d-98e2-632553a74c12"
   },
   "outputs": [
    {
     "data": {
      "text/html": [
       "<div>\n",
       "<style scoped>\n",
       "    .dataframe tbody tr th:only-of-type {\n",
       "        vertical-align: middle;\n",
       "    }\n",
       "\n",
       "    .dataframe tbody tr th {\n",
       "        vertical-align: top;\n",
       "    }\n",
       "\n",
       "    .dataframe thead th {\n",
       "        text-align: right;\n",
       "    }\n",
       "</style>\n",
       "<table border=\"1\" class=\"dataframe\">\n",
       "  <thead>\n",
       "    <tr style=\"text-align: right;\">\n",
       "      <th></th>\n",
       "      <th>CountyFIPS</th>\n",
       "      <th>TotalPopulation</th>\n",
       "      <th>ACCESS2_CrudePrev</th>\n",
       "      <th>ACCESS2_AdjPrev</th>\n",
       "      <th>ARTHRITIS_CrudePrev</th>\n",
       "      <th>ARTHRITIS_AdjPrev</th>\n",
       "      <th>BINGE_CrudePrev</th>\n",
       "      <th>BINGE_AdjPrev</th>\n",
       "      <th>BPHIGH_CrudePrev</th>\n",
       "      <th>BPHIGH_AdjPrev</th>\n",
       "      <th>...</th>\n",
       "      <th>OBESITY_CrudePrev</th>\n",
       "      <th>OBESITY_AdjPrev</th>\n",
       "      <th>PHLTH_CrudePrev</th>\n",
       "      <th>PHLTH_AdjPrev</th>\n",
       "      <th>SLEEP_CrudePrev</th>\n",
       "      <th>SLEEP_AdjPrev</th>\n",
       "      <th>STROKE_CrudePrev</th>\n",
       "      <th>STROKE_AdjPrev</th>\n",
       "      <th>TEETHLOST_CrudePrev</th>\n",
       "      <th>TEETHLOST_AdjPrev</th>\n",
       "    </tr>\n",
       "  </thead>\n",
       "  <tbody>\n",
       "    <tr>\n",
       "      <th>count</th>\n",
       "      <td>3142.000000</td>\n",
       "      <td>3.142000e+03</td>\n",
       "      <td>3121.000000</td>\n",
       "      <td>3121.000000</td>\n",
       "      <td>3121.000000</td>\n",
       "      <td>3121.000000</td>\n",
       "      <td>3121.000000</td>\n",
       "      <td>3121.000000</td>\n",
       "      <td>3121.000000</td>\n",
       "      <td>3121.000000</td>\n",
       "      <td>...</td>\n",
       "      <td>3121.000000</td>\n",
       "      <td>3121.000000</td>\n",
       "      <td>3121.000000</td>\n",
       "      <td>3121.000000</td>\n",
       "      <td>3142.000000</td>\n",
       "      <td>3142.000000</td>\n",
       "      <td>3121.000000</td>\n",
       "      <td>3121.000000</td>\n",
       "      <td>3142.000000</td>\n",
       "      <td>3142.000000</td>\n",
       "    </tr>\n",
       "    <tr>\n",
       "      <th>mean</th>\n",
       "      <td>30383.649268</td>\n",
       "      <td>1.044683e+05</td>\n",
       "      <td>17.637872</td>\n",
       "      <td>18.373662</td>\n",
       "      <td>29.284909</td>\n",
       "      <td>25.087440</td>\n",
       "      <td>16.155751</td>\n",
       "      <td>18.011503</td>\n",
       "      <td>37.153188</td>\n",
       "      <td>32.707241</td>\n",
       "      <td>...</td>\n",
       "      <td>35.648734</td>\n",
       "      <td>35.770522</td>\n",
       "      <td>14.839667</td>\n",
       "      <td>13.749920</td>\n",
       "      <td>35.638574</td>\n",
       "      <td>36.812985</td>\n",
       "      <td>4.101794</td>\n",
       "      <td>3.386447</td>\n",
       "      <td>17.158943</td>\n",
       "      <td>17.460694</td>\n",
       "    </tr>\n",
       "    <tr>\n",
       "      <th>std</th>\n",
       "      <td>15162.508374</td>\n",
       "      <td>3.334567e+05</td>\n",
       "      <td>6.832941</td>\n",
       "      <td>6.839567</td>\n",
       "      <td>5.091697</td>\n",
       "      <td>3.423022</td>\n",
       "      <td>2.834170</td>\n",
       "      <td>3.099705</td>\n",
       "      <td>5.740366</td>\n",
       "      <td>4.866991</td>\n",
       "      <td>...</td>\n",
       "      <td>4.283507</td>\n",
       "      <td>4.276531</td>\n",
       "      <td>2.901980</td>\n",
       "      <td>2.643599</td>\n",
       "      <td>4.062011</td>\n",
       "      <td>3.965067</td>\n",
       "      <td>0.922290</td>\n",
       "      <td>0.695152</td>\n",
       "      <td>5.007148</td>\n",
       "      <td>5.085768</td>\n",
       "    </tr>\n",
       "    <tr>\n",
       "      <th>min</th>\n",
       "      <td>1001.000000</td>\n",
       "      <td>8.600000e+01</td>\n",
       "      <td>7.500000</td>\n",
       "      <td>7.900000</td>\n",
       "      <td>12.800000</td>\n",
       "      <td>15.200000</td>\n",
       "      <td>7.800000</td>\n",
       "      <td>6.800000</td>\n",
       "      <td>19.900000</td>\n",
       "      <td>21.400000</td>\n",
       "      <td>...</td>\n",
       "      <td>16.400000</td>\n",
       "      <td>16.400000</td>\n",
       "      <td>7.400000</td>\n",
       "      <td>7.300000</td>\n",
       "      <td>25.600000</td>\n",
       "      <td>25.600000</td>\n",
       "      <td>1.800000</td>\n",
       "      <td>1.900000</td>\n",
       "      <td>4.300000</td>\n",
       "      <td>4.500000</td>\n",
       "    </tr>\n",
       "    <tr>\n",
       "      <th>25%</th>\n",
       "      <td>18177.500000</td>\n",
       "      <td>1.090250e+04</td>\n",
       "      <td>12.700000</td>\n",
       "      <td>13.400000</td>\n",
       "      <td>26.100000</td>\n",
       "      <td>22.700000</td>\n",
       "      <td>14.000000</td>\n",
       "      <td>15.700000</td>\n",
       "      <td>33.400000</td>\n",
       "      <td>29.200000</td>\n",
       "      <td>...</td>\n",
       "      <td>33.200000</td>\n",
       "      <td>33.400000</td>\n",
       "      <td>12.700000</td>\n",
       "      <td>11.700000</td>\n",
       "      <td>32.500000</td>\n",
       "      <td>33.800000</td>\n",
       "      <td>3.500000</td>\n",
       "      <td>2.900000</td>\n",
       "      <td>13.600000</td>\n",
       "      <td>13.700000</td>\n",
       "    </tr>\n",
       "    <tr>\n",
       "      <th>50%</th>\n",
       "      <td>29176.000000</td>\n",
       "      <td>2.572600e+04</td>\n",
       "      <td>15.900000</td>\n",
       "      <td>16.600000</td>\n",
       "      <td>29.500000</td>\n",
       "      <td>24.800000</td>\n",
       "      <td>16.100000</td>\n",
       "      <td>17.800000</td>\n",
       "      <td>36.900000</td>\n",
       "      <td>31.700000</td>\n",
       "      <td>...</td>\n",
       "      <td>36.100000</td>\n",
       "      <td>36.200000</td>\n",
       "      <td>14.600000</td>\n",
       "      <td>13.600000</td>\n",
       "      <td>35.700000</td>\n",
       "      <td>36.800000</td>\n",
       "      <td>4.000000</td>\n",
       "      <td>3.200000</td>\n",
       "      <td>16.400000</td>\n",
       "      <td>16.700000</td>\n",
       "    </tr>\n",
       "    <tr>\n",
       "      <th>75%</th>\n",
       "      <td>45080.500000</td>\n",
       "      <td>6.807275e+04</td>\n",
       "      <td>20.500000</td>\n",
       "      <td>21.200000</td>\n",
       "      <td>32.600000</td>\n",
       "      <td>27.100000</td>\n",
       "      <td>18.200000</td>\n",
       "      <td>20.200000</td>\n",
       "      <td>40.800000</td>\n",
       "      <td>36.000000</td>\n",
       "      <td>...</td>\n",
       "      <td>38.400000</td>\n",
       "      <td>38.400000</td>\n",
       "      <td>16.800000</td>\n",
       "      <td>15.500000</td>\n",
       "      <td>38.500000</td>\n",
       "      <td>39.700000</td>\n",
       "      <td>4.600000</td>\n",
       "      <td>3.700000</td>\n",
       "      <td>20.300000</td>\n",
       "      <td>20.600000</td>\n",
       "    </tr>\n",
       "    <tr>\n",
       "      <th>max</th>\n",
       "      <td>56045.000000</td>\n",
       "      <td>1.003911e+07</td>\n",
       "      <td>55.700000</td>\n",
       "      <td>56.600000</td>\n",
       "      <td>47.300000</td>\n",
       "      <td>38.700000</td>\n",
       "      <td>25.100000</td>\n",
       "      <td>26.900000</td>\n",
       "      <td>58.700000</td>\n",
       "      <td>53.000000</td>\n",
       "      <td>...</td>\n",
       "      <td>50.900000</td>\n",
       "      <td>51.000000</td>\n",
       "      <td>27.400000</td>\n",
       "      <td>26.800000</td>\n",
       "      <td>48.600000</td>\n",
       "      <td>49.100000</td>\n",
       "      <td>8.900000</td>\n",
       "      <td>8.200000</td>\n",
       "      <td>46.000000</td>\n",
       "      <td>47.600000</td>\n",
       "    </tr>\n",
       "  </tbody>\n",
       "</table>\n",
       "<p>8 rows × 62 columns</p>\n",
       "</div>"
      ],
      "text/plain": [
       "         CountyFIPS  TotalPopulation  ACCESS2_CrudePrev  ACCESS2_AdjPrev  \\\n",
       "count   3142.000000     3.142000e+03        3121.000000      3121.000000   \n",
       "mean   30383.649268     1.044683e+05          17.637872        18.373662   \n",
       "std    15162.508374     3.334567e+05           6.832941         6.839567   \n",
       "min     1001.000000     8.600000e+01           7.500000         7.900000   \n",
       "25%    18177.500000     1.090250e+04          12.700000        13.400000   \n",
       "50%    29176.000000     2.572600e+04          15.900000        16.600000   \n",
       "75%    45080.500000     6.807275e+04          20.500000        21.200000   \n",
       "max    56045.000000     1.003911e+07          55.700000        56.600000   \n",
       "\n",
       "       ARTHRITIS_CrudePrev  ARTHRITIS_AdjPrev  BINGE_CrudePrev  BINGE_AdjPrev  \\\n",
       "count          3121.000000        3121.000000      3121.000000    3121.000000   \n",
       "mean             29.284909          25.087440        16.155751      18.011503   \n",
       "std               5.091697           3.423022         2.834170       3.099705   \n",
       "min              12.800000          15.200000         7.800000       6.800000   \n",
       "25%              26.100000          22.700000        14.000000      15.700000   \n",
       "50%              29.500000          24.800000        16.100000      17.800000   \n",
       "75%              32.600000          27.100000        18.200000      20.200000   \n",
       "max              47.300000          38.700000        25.100000      26.900000   \n",
       "\n",
       "       BPHIGH_CrudePrev  BPHIGH_AdjPrev  ...  OBESITY_CrudePrev  \\\n",
       "count       3121.000000     3121.000000  ...        3121.000000   \n",
       "mean          37.153188       32.707241  ...          35.648734   \n",
       "std            5.740366        4.866991  ...           4.283507   \n",
       "min           19.900000       21.400000  ...          16.400000   \n",
       "25%           33.400000       29.200000  ...          33.200000   \n",
       "50%           36.900000       31.700000  ...          36.100000   \n",
       "75%           40.800000       36.000000  ...          38.400000   \n",
       "max           58.700000       53.000000  ...          50.900000   \n",
       "\n",
       "       OBESITY_AdjPrev  PHLTH_CrudePrev  PHLTH_AdjPrev  SLEEP_CrudePrev  \\\n",
       "count      3121.000000      3121.000000    3121.000000      3142.000000   \n",
       "mean         35.770522        14.839667      13.749920        35.638574   \n",
       "std           4.276531         2.901980       2.643599         4.062011   \n",
       "min          16.400000         7.400000       7.300000        25.600000   \n",
       "25%          33.400000        12.700000      11.700000        32.500000   \n",
       "50%          36.200000        14.600000      13.600000        35.700000   \n",
       "75%          38.400000        16.800000      15.500000        38.500000   \n",
       "max          51.000000        27.400000      26.800000        48.600000   \n",
       "\n",
       "       SLEEP_AdjPrev  STROKE_CrudePrev  STROKE_AdjPrev  TEETHLOST_CrudePrev  \\\n",
       "count    3142.000000       3121.000000     3121.000000          3142.000000   \n",
       "mean       36.812985          4.101794        3.386447            17.158943   \n",
       "std         3.965067          0.922290        0.695152             5.007148   \n",
       "min        25.600000          1.800000        1.900000             4.300000   \n",
       "25%        33.800000          3.500000        2.900000            13.600000   \n",
       "50%        36.800000          4.000000        3.200000            16.400000   \n",
       "75%        39.700000          4.600000        3.700000            20.300000   \n",
       "max        49.100000          8.900000        8.200000            46.000000   \n",
       "\n",
       "       TEETHLOST_AdjPrev  \n",
       "count        3142.000000  \n",
       "mean           17.460694  \n",
       "std             5.085768  \n",
       "min             4.500000  \n",
       "25%            13.700000  \n",
       "50%            16.700000  \n",
       "75%            20.600000  \n",
       "max            47.600000  \n",
       "\n",
       "[8 rows x 62 columns]"
      ]
     },
     "execution_count": 47,
     "metadata": {},
     "output_type": "execute_result"
    }
   ],
   "source": [
    "# Look at the descriptive statistics of numeric columns\n",
    "# While some columns have a max more than 3 standard deviations away from the mean, this makes sense based on the \n",
    "# differences among states and counties.\n",
    "# Need to look more closely at some columns to get a better sense of outliers.\n",
    "df_numeric.describe()"
   ]
  },
  {
   "cell_type": "code",
   "execution_count": 48,
   "metadata": {},
   "outputs": [
    {
     "data": {
      "text/plain": [
       "<AxesSubplot:>"
      ]
     },
     "execution_count": 48,
     "metadata": {},
     "output_type": "execute_result"
    },
    {
     "data": {
      "image/png": "[encoded data removed]",
      "text/plain": [
       "<Figure size 432x288 with 1 Axes>"
      ]
     },
     "metadata": {
      "needs_background": "light"
     },
     "output_type": "display_data"
    }
   ],
   "source": [
    "# Look at specific columns to see if there are any outliers\n",
    "df.boxplot(column=['ACCESS2_AdjPrev'])"
   ]
  },
  {
   "cell_type": "code",
   "execution_count": 49,
   "metadata": {},
   "outputs": [
    {
     "data": {
      "text/plain": [
       "<AxesSubplot:>"
      ]
     },
     "execution_count": 49,
     "metadata": {},
     "output_type": "execute_result"
    },
    {
     "data": {
      "image/png": "[encoded data removed]",
      "text/plain": [
       "<Figure size 432x288 with 1 Axes>"
      ]
     },
     "metadata": {
      "needs_background": "light"
     },
     "output_type": "display_data"
    }
   ],
   "source": [
    "df.boxplot(column=['OBESITY_AdjPrev'])"
   ]
  },
  {
   "cell_type": "code",
   "execution_count": 51,
   "metadata": {},
   "outputs": [
    {
     "data": {
      "text/plain": [
       "<AxesSubplot:>"
      ]
     },
     "execution_count": 51,
     "metadata": {},
     "output_type": "execute_result"
    },
    {
     "data": {
      "image/png": "[encoded data removed]",
      "text/plain": [
       "<Figure size 432x288 with 1 Axes>"
      ]
     },
     "metadata": {
      "needs_background": "light"
     },
     "output_type": "display_data"
    }
   ],
   "source": [
    "df.boxplot(column=['BPHIGH_AdjPrev'])"
   ]
  },
  {
   "cell_type": "code",
   "execution_count": 50,
   "metadata": {},
   "outputs": [
    {
     "data": {
      "text/plain": [
       "<AxesSubplot:>"
      ]
     },
     "execution_count": 50,
     "metadata": {},
     "output_type": "execute_result"
    },
    {
     "data": {
      "image/png": "[encoded data removed]",
      "text/plain": [
       "<Figure size 432x288 with 1 Axes>"
      ]
     },
     "metadata": {
      "needs_background": "light"
     },
     "output_type": "display_data"
    }
   ],
   "source": [
    "# None of these boxplots show any values that are outrageously higher or lower than the other values\n",
    "df.boxplot(column=['STROKE_AdjPrev'])"
   ]
  },
  {
   "cell_type": "markdown",
   "metadata": {
    "azdata_cell_guid": "6f5b8ee0-bab3-44bc-958a-67d1e4c0407f"
   },
   "source": [
    "## Unnecessary Data\n",
    "\n",
    "Look for the different types of unnecessary data in your dataset and address it as needed. Make sure to use code comments to illustrate your thought process."
   ]
  },
  {
   "cell_type": "code",
   "execution_count": 17,
   "metadata": {
    "azdata_cell_guid": "e788a239-2fbf-41de-9bd3-19e52e3b187c"
   },
   "outputs": [
    {
     "name": "stdout",
     "output_type": "stream",
     "text": [
      "(3142, 126)\n",
      "(3142, 125)\n"
     ]
    }
   ],
   "source": [
    "# Check for duplicate rows\n",
    "# There are no duplicate rows, which makes sense as each county has its own row\n",
    "df_dedupped = df.drop('CountyFIPS', axis=1).drop_duplicates()\n",
    "print(df.shape)\n",
    "print(df_dedupped.shape)"
   ]
  },
  {
   "cell_type": "markdown",
   "metadata": {
    "azdata_cell_guid": "53e0cf94-c68a-4fa0-9849-9505a66bcce6"
   },
   "source": [
    "## Inconsistent Data\n",
    "\n",
    "Check for inconsistent data and address any that arises. As always, use code comments to illustrate your thought process."
   ]
  },
  {
   "cell_type": "code",
   "execution_count": 54,
   "metadata": {
    "azdata_cell_guid": "e9de6624-812a-43f8-8e20-93b4a49b091f"
   },
   "outputs": [
    {
     "data": {
      "text/plain": [
       "TX    254\n",
       "GA    159\n",
       "VA    133\n",
       "KY    120\n",
       "MO    115\n",
       "KS    105\n",
       "IL    102\n",
       "NC    100\n",
       "IA     99\n",
       "TN     95\n",
       "NE     93\n",
       "IN     92\n",
       "OH     88\n",
       "MN     87\n",
       "MI     83\n",
       "MS     82\n",
       "OK     77\n",
       "AR     75\n",
       "WI     72\n",
       "FL     67\n",
       "AL     67\n",
       "PA     67\n",
       "SD     66\n",
       "LA     64\n",
       "CO     64\n",
       "NY     62\n",
       "CA     58\n",
       "MT     56\n",
       "WV     55\n",
       "ND     53\n",
       "SC     46\n",
       "ID     44\n",
       "WA     39\n",
       "OR     36\n",
       "NM     33\n",
       "UT     29\n",
       "AK     29\n",
       "MD     24\n",
       "WY     23\n",
       "NJ     21\n",
       "NV     17\n",
       "ME     16\n",
       "AZ     15\n",
       "VT     14\n",
       "MA     14\n",
       "NH     10\n",
       "CT      8\n",
       "HI      5\n",
       "RI      5\n",
       "DE      3\n",
       "DC      1\n",
       "Name: StateAbbr, dtype: int64"
      ]
     },
     "execution_count": 54,
     "metadata": {},
     "output_type": "execute_result"
    }
   ],
   "source": [
    "# All the state abbreviations are two letters and capitalized, which is good to see consistency.\n",
    "df['StateAbbr'].value_counts()"
   ]
  },
  {
   "cell_type": "code",
   "execution_count": 55,
   "metadata": {},
   "outputs": [
    {
     "data": {
      "text/plain": [
       "Texas                   254\n",
       "Georgia                 159\n",
       "Virginia                133\n",
       "Kentucky                120\n",
       "Missouri                115\n",
       "Kansas                  105\n",
       "Illinois                102\n",
       "North Carolina          100\n",
       "Iowa                     99\n",
       "Tennessee                95\n",
       "Nebraska                 93\n",
       "Indiana                  92\n",
       "Ohio                     88\n",
       "Minnesota                87\n",
       "Michigan                 83\n",
       "Mississippi              82\n",
       "Oklahoma                 77\n",
       "Arkansas                 75\n",
       "Wisconsin                72\n",
       "Florida                  67\n",
       "Alabama                  67\n",
       "Pennsylvania             67\n",
       "South Dakota             66\n",
       "Louisiana                64\n",
       "Colorado                 64\n",
       "New York                 62\n",
       "California               58\n",
       "Montana                  56\n",
       "West Virginia            55\n",
       "North Dakota             53\n",
       "South Carolina           46\n",
       "Idaho                    44\n",
       "Washington               39\n",
       "Oregon                   36\n",
       "New Mexico               33\n",
       "Utah                     29\n",
       "Alaska                   29\n",
       "Maryland                 24\n",
       "Wyoming                  23\n",
       "New Jersey               21\n",
       "Nevada                   17\n",
       "Maine                    16\n",
       "Arizona                  15\n",
       "Vermont                  14\n",
       "Massachusetts            14\n",
       "New Hampshire            10\n",
       "Connecticut               8\n",
       "Hawaii                    5\n",
       "Rhode Island              5\n",
       "Delaware                  3\n",
       "District of Columbia      1\n",
       "Name: StateDesc, dtype: int64"
      ]
     },
     "execution_count": 55,
     "metadata": {},
     "output_type": "execute_result"
    }
   ],
   "source": [
    "# Look at states to see if there is consistent spelling and capitalization\n",
    "# There is consistency in spelling and capitalization\n",
    "df['StateDesc'].value_counts()"
   ]
  },
  {
   "cell_type": "markdown",
   "metadata": {
    "azdata_cell_guid": "dedc0bfe-17d0-40b2-914f-2ddb54f9ce0d"
   },
   "source": [
    "## Summarize Your Results\n",
    "\n",
    "Make note of your answers to the following questions.\n",
    "\n",
    "1. Did you find all four types of dirty data in your dataset? No the only thing I really found was some missing data related to New Jersey.\n",
    "2. Did the process of cleaning your data give you new insights into your dataset? As expected, there was not much to clean with this dataset. Because this is from the CDC, I knew the data would be pretty clean and not require additional steps.\n",
    "3. Is there anything you would like to make note of when it comes to manipulating the data and making visualizations? I might make a KC region dataframe to just look at those counties rather than the whole US, or at least focus on that region for more detailed analysis."
   ]
  }
 ],
 "metadata": {
  "kernelspec": {
   "display_name": "Python 3 (ipykernel)",
   "language": "python",
   "name": "python3"
  },
  "language_info": {
   "codemirror_mode": {
    "name": "ipython",
    "version": 3
   },
   "file_extension": ".py",
   "mimetype": "text/x-python",
   "name": "python",
   "nbconvert_exporter": "python",
   "pygments_lexer": "ipython3",
   "version": "3.9.7"
  }
 },
 "nbformat": 4,
 "nbformat_minor": 2
}
